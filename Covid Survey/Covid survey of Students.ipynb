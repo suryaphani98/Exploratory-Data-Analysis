{
 "cells": [
  {
   "cell_type": "code",
   "execution_count": 1,
   "metadata": {},
   "outputs": [],
   "source": [
    "import pandas as pd\n",
    "import numpy as np\n",
    "import seaborn as sns\n",
    "import matplotlib.pyplot as plt\n",
    "import plotly as px"
   ]
  },
  {
   "cell_type": "code",
   "execution_count": 2,
   "metadata": {},
   "outputs": [],
   "source": [
    "df = pd.read_csv('COVID-19 Survey.csv')"
   ]
  },
  {
   "cell_type": "code",
   "execution_count": 3,
   "metadata": {},
   "outputs": [
    {
     "data": {
      "text/html": [
       "<div>\n",
       "<style scoped>\n",
       "    .dataframe tbody tr th:only-of-type {\n",
       "        vertical-align: middle;\n",
       "    }\n",
       "\n",
       "    .dataframe tbody tr th {\n",
       "        vertical-align: top;\n",
       "    }\n",
       "\n",
       "    .dataframe thead th {\n",
       "        text-align: right;\n",
       "    }\n",
       "</style>\n",
       "<table border=\"1\" class=\"dataframe\">\n",
       "  <thead>\n",
       "    <tr style=\"text-align: right;\">\n",
       "      <th></th>\n",
       "      <th>ID</th>\n",
       "      <th>Region of residence</th>\n",
       "      <th>Age of Subject</th>\n",
       "      <th>Time spent on Online Class</th>\n",
       "      <th>Rating of Online Class experience</th>\n",
       "      <th>Medium for online class</th>\n",
       "      <th>Time spent on self study</th>\n",
       "      <th>Time spent on fitness</th>\n",
       "      <th>Time spent on sleep</th>\n",
       "      <th>Time spent on social media</th>\n",
       "      <th>Prefered social media platform</th>\n",
       "      <th>Time spent on TV</th>\n",
       "      <th>Number of meals per day</th>\n",
       "      <th>Change in your weight</th>\n",
       "      <th>Health issue during lockdown</th>\n",
       "      <th>Stress busters</th>\n",
       "      <th>Time utilized</th>\n",
       "      <th>Do you find yourself more connected with your family, close friends , relatives  ?</th>\n",
       "      <th>What you miss the most</th>\n",
       "    </tr>\n",
       "  </thead>\n",
       "  <tbody>\n",
       "    <tr>\n",
       "      <th>0</th>\n",
       "      <td>R1</td>\n",
       "      <td>Delhi-NCR</td>\n",
       "      <td>21</td>\n",
       "      <td>2.0</td>\n",
       "      <td>Good</td>\n",
       "      <td>Laptop/Desktop</td>\n",
       "      <td>4.0</td>\n",
       "      <td>0.0</td>\n",
       "      <td>7.0</td>\n",
       "      <td>3.0</td>\n",
       "      <td>Linkedin</td>\n",
       "      <td>1</td>\n",
       "      <td>4</td>\n",
       "      <td>Increased</td>\n",
       "      <td>NO</td>\n",
       "      <td>Cooking</td>\n",
       "      <td>YES</td>\n",
       "      <td>YES</td>\n",
       "      <td>School/college</td>\n",
       "    </tr>\n",
       "    <tr>\n",
       "      <th>1</th>\n",
       "      <td>R2</td>\n",
       "      <td>Delhi-NCR</td>\n",
       "      <td>21</td>\n",
       "      <td>0.0</td>\n",
       "      <td>Excellent</td>\n",
       "      <td>Smartphone</td>\n",
       "      <td>0.0</td>\n",
       "      <td>2.0</td>\n",
       "      <td>10.0</td>\n",
       "      <td>3.0</td>\n",
       "      <td>Youtube</td>\n",
       "      <td>0</td>\n",
       "      <td>3</td>\n",
       "      <td>Decreased</td>\n",
       "      <td>NO</td>\n",
       "      <td>Scrolling through social media</td>\n",
       "      <td>YES</td>\n",
       "      <td>NO</td>\n",
       "      <td>Roaming around freely</td>\n",
       "    </tr>\n",
       "    <tr>\n",
       "      <th>2</th>\n",
       "      <td>R3</td>\n",
       "      <td>Delhi-NCR</td>\n",
       "      <td>20</td>\n",
       "      <td>7.0</td>\n",
       "      <td>Very poor</td>\n",
       "      <td>Laptop/Desktop</td>\n",
       "      <td>3.0</td>\n",
       "      <td>0.0</td>\n",
       "      <td>6.0</td>\n",
       "      <td>2.0</td>\n",
       "      <td>Linkedin</td>\n",
       "      <td>0</td>\n",
       "      <td>3</td>\n",
       "      <td>Remain Constant</td>\n",
       "      <td>NO</td>\n",
       "      <td>Listening to music</td>\n",
       "      <td>NO</td>\n",
       "      <td>YES</td>\n",
       "      <td>Travelling</td>\n",
       "    </tr>\n",
       "    <tr>\n",
       "      <th>3</th>\n",
       "      <td>R4</td>\n",
       "      <td>Delhi-NCR</td>\n",
       "      <td>20</td>\n",
       "      <td>3.0</td>\n",
       "      <td>Very poor</td>\n",
       "      <td>Smartphone</td>\n",
       "      <td>2.0</td>\n",
       "      <td>1.0</td>\n",
       "      <td>6.0</td>\n",
       "      <td>5.0</td>\n",
       "      <td>Instagram</td>\n",
       "      <td>0</td>\n",
       "      <td>3</td>\n",
       "      <td>Decreased</td>\n",
       "      <td>NO</td>\n",
       "      <td>Watching web series</td>\n",
       "      <td>NO</td>\n",
       "      <td>NO</td>\n",
       "      <td>Friends , relatives</td>\n",
       "    </tr>\n",
       "    <tr>\n",
       "      <th>4</th>\n",
       "      <td>R5</td>\n",
       "      <td>Delhi-NCR</td>\n",
       "      <td>21</td>\n",
       "      <td>3.0</td>\n",
       "      <td>Good</td>\n",
       "      <td>Laptop/Desktop</td>\n",
       "      <td>3.0</td>\n",
       "      <td>1.0</td>\n",
       "      <td>8.0</td>\n",
       "      <td>3.0</td>\n",
       "      <td>Instagram</td>\n",
       "      <td>1</td>\n",
       "      <td>4</td>\n",
       "      <td>Remain Constant</td>\n",
       "      <td>NO</td>\n",
       "      <td>Social Media</td>\n",
       "      <td>NO</td>\n",
       "      <td>NO</td>\n",
       "      <td>Travelling</td>\n",
       "    </tr>\n",
       "  </tbody>\n",
       "</table>\n",
       "</div>"
      ],
      "text/plain": [
       "   ID Region of residence  Age of Subject  Time spent on Online Class  \\\n",
       "0  R1           Delhi-NCR              21                         2.0   \n",
       "1  R2           Delhi-NCR              21                         0.0   \n",
       "2  R3           Delhi-NCR              20                         7.0   \n",
       "3  R4           Delhi-NCR              20                         3.0   \n",
       "4  R5           Delhi-NCR              21                         3.0   \n",
       "\n",
       "  Rating of Online Class experience Medium for online class  \\\n",
       "0                              Good          Laptop/Desktop   \n",
       "1                         Excellent              Smartphone   \n",
       "2                         Very poor          Laptop/Desktop   \n",
       "3                         Very poor              Smartphone   \n",
       "4                              Good          Laptop/Desktop   \n",
       "\n",
       "   Time spent on self study  Time spent on fitness  Time spent on sleep  \\\n",
       "0                       4.0                    0.0                  7.0   \n",
       "1                       0.0                    2.0                 10.0   \n",
       "2                       3.0                    0.0                  6.0   \n",
       "3                       2.0                    1.0                  6.0   \n",
       "4                       3.0                    1.0                  8.0   \n",
       "\n",
       "   Time spent on social media Prefered social media platform Time spent on TV  \\\n",
       "0                         3.0                       Linkedin                1   \n",
       "1                         3.0                        Youtube                0   \n",
       "2                         2.0                       Linkedin                0   \n",
       "3                         5.0                      Instagram                0   \n",
       "4                         3.0                      Instagram                1   \n",
       "\n",
       "   Number of meals per day Change in your weight Health issue during lockdown  \\\n",
       "0                        4             Increased                           NO   \n",
       "1                        3             Decreased                           NO   \n",
       "2                        3       Remain Constant                           NO   \n",
       "3                        3             Decreased                           NO   \n",
       "4                        4       Remain Constant                           NO   \n",
       "\n",
       "                   Stress busters Time utilized  \\\n",
       "0                         Cooking           YES   \n",
       "1  Scrolling through social media           YES   \n",
       "2              Listening to music            NO   \n",
       "3             Watching web series            NO   \n",
       "4                    Social Media            NO   \n",
       "\n",
       "  Do you find yourself more connected with your family, close friends , relatives  ?  \\\n",
       "0                                                YES                                   \n",
       "1                                                 NO                                   \n",
       "2                                                YES                                   \n",
       "3                                                 NO                                   \n",
       "4                                                 NO                                   \n",
       "\n",
       "  What you miss the most  \n",
       "0         School/college  \n",
       "1  Roaming around freely  \n",
       "2             Travelling  \n",
       "3    Friends , relatives  \n",
       "4             Travelling  "
      ]
     },
     "execution_count": 3,
     "metadata": {},
     "output_type": "execute_result"
    }
   ],
   "source": [
    "df.head()"
   ]
  },
  {
   "cell_type": "code",
   "execution_count": 4,
   "metadata": {},
   "outputs": [
    {
     "data": {
      "text/plain": [
       "(1182, 19)"
      ]
     },
     "execution_count": 4,
     "metadata": {},
     "output_type": "execute_result"
    }
   ],
   "source": [
    "df.shape"
   ]
  },
  {
   "cell_type": "code",
   "execution_count": 5,
   "metadata": {},
   "outputs": [
    {
     "data": {
      "text/plain": [
       "1182"
      ]
     },
     "execution_count": 5,
     "metadata": {},
     "output_type": "execute_result"
    }
   ],
   "source": [
    "len(df)"
   ]
  },
  {
   "cell_type": "code",
   "execution_count": 6,
   "metadata": {},
   "outputs": [
    {
     "data": {
      "text/plain": [
       "Index(['ID', 'Region of residence', 'Age of Subject',\n",
       "       'Time spent on Online Class', 'Rating of Online Class experience',\n",
       "       'Medium for online class', 'Time spent on self study',\n",
       "       'Time spent on fitness', 'Time spent on sleep',\n",
       "       'Time spent on social media', 'Prefered social media platform',\n",
       "       'Time spent on TV', 'Number of meals per day', 'Change in your weight',\n",
       "       'Health issue during lockdown', 'Stress busters', 'Time utilized',\n",
       "       'Do you find yourself more connected with your family, close friends , relatives  ?',\n",
       "       'What you miss the most'],\n",
       "      dtype='object')"
      ]
     },
     "execution_count": 6,
     "metadata": {},
     "output_type": "execute_result"
    }
   ],
   "source": [
    "df.columns"
   ]
  },
  {
   "cell_type": "code",
   "execution_count": 7,
   "metadata": {},
   "outputs": [],
   "source": [
    "df.rename(\n",
    "    columns = {\n",
    "        'Region of residence': 'region',\n",
    "        'Age of Subject': 'age',\n",
    "        'Time spent on Online Class': 'time_online_class',\n",
    "        'Rating of Online Class experience': 'rating_online_class',\n",
    "        'Medium for online class': 'medium',\n",
    "        'Time spent on self study': 'time_self_study',\n",
    "        'Time spent on fitness': 'time_fitness',\n",
    "        'Time spent on sleep': 'time_sleep',\n",
    "        'Time spent on social media': 'time_social_media',\n",
    "        'Prefered social media platform': 'prefered_social_media',\n",
    "        'Time spent on TV': 'time_tv',\n",
    "        'Number of meals per day': 'num_meals_per_day',\n",
    "        'Change in your weight': 'delta_weight',\n",
    "        'Health issue during lockdown': 'health_issue_in_lockdown',\n",
    "        'Stress busters': 'stress_busters',       \n",
    "        'Time utilized': 'time_utilized',\n",
    "        'Do you find yourself more connected with your family, close friends , relatives  ?': 'more_family_connected',\n",
    "        'What you miss the most': 'miss_most'\n",
    "    }, inplace=True)"
   ]
  },
  {
   "cell_type": "code",
   "execution_count": 8,
   "metadata": {},
   "outputs": [
    {
     "data": {
      "text/html": [
       "<div>\n",
       "<style scoped>\n",
       "    .dataframe tbody tr th:only-of-type {\n",
       "        vertical-align: middle;\n",
       "    }\n",
       "\n",
       "    .dataframe tbody tr th {\n",
       "        vertical-align: top;\n",
       "    }\n",
       "\n",
       "    .dataframe thead th {\n",
       "        text-align: right;\n",
       "    }\n",
       "</style>\n",
       "<table border=\"1\" class=\"dataframe\">\n",
       "  <thead>\n",
       "    <tr style=\"text-align: right;\">\n",
       "      <th></th>\n",
       "      <th>ID</th>\n",
       "      <th>region</th>\n",
       "      <th>age</th>\n",
       "      <th>time_online_class</th>\n",
       "      <th>rating_online_class</th>\n",
       "      <th>medium</th>\n",
       "      <th>time_self_study</th>\n",
       "      <th>time_fitness</th>\n",
       "      <th>time_sleep</th>\n",
       "      <th>time_social_media</th>\n",
       "      <th>prefered_social_media</th>\n",
       "      <th>time_tv</th>\n",
       "      <th>num_meals_per_day</th>\n",
       "      <th>delta_weight</th>\n",
       "      <th>health_issue_in_lockdown</th>\n",
       "      <th>stress_busters</th>\n",
       "      <th>time_utilized</th>\n",
       "      <th>more_family_connected</th>\n",
       "      <th>miss_most</th>\n",
       "    </tr>\n",
       "  </thead>\n",
       "  <tbody>\n",
       "    <tr>\n",
       "      <th>0</th>\n",
       "      <td>R1</td>\n",
       "      <td>Delhi-NCR</td>\n",
       "      <td>21</td>\n",
       "      <td>2.0</td>\n",
       "      <td>Good</td>\n",
       "      <td>Laptop/Desktop</td>\n",
       "      <td>4.0</td>\n",
       "      <td>0.0</td>\n",
       "      <td>7.0</td>\n",
       "      <td>3.0</td>\n",
       "      <td>Linkedin</td>\n",
       "      <td>1</td>\n",
       "      <td>4</td>\n",
       "      <td>Increased</td>\n",
       "      <td>NO</td>\n",
       "      <td>Cooking</td>\n",
       "      <td>YES</td>\n",
       "      <td>YES</td>\n",
       "      <td>School/college</td>\n",
       "    </tr>\n",
       "    <tr>\n",
       "      <th>1</th>\n",
       "      <td>R2</td>\n",
       "      <td>Delhi-NCR</td>\n",
       "      <td>21</td>\n",
       "      <td>0.0</td>\n",
       "      <td>Excellent</td>\n",
       "      <td>Smartphone</td>\n",
       "      <td>0.0</td>\n",
       "      <td>2.0</td>\n",
       "      <td>10.0</td>\n",
       "      <td>3.0</td>\n",
       "      <td>Youtube</td>\n",
       "      <td>0</td>\n",
       "      <td>3</td>\n",
       "      <td>Decreased</td>\n",
       "      <td>NO</td>\n",
       "      <td>Scrolling through social media</td>\n",
       "      <td>YES</td>\n",
       "      <td>NO</td>\n",
       "      <td>Roaming around freely</td>\n",
       "    </tr>\n",
       "    <tr>\n",
       "      <th>2</th>\n",
       "      <td>R3</td>\n",
       "      <td>Delhi-NCR</td>\n",
       "      <td>20</td>\n",
       "      <td>7.0</td>\n",
       "      <td>Very poor</td>\n",
       "      <td>Laptop/Desktop</td>\n",
       "      <td>3.0</td>\n",
       "      <td>0.0</td>\n",
       "      <td>6.0</td>\n",
       "      <td>2.0</td>\n",
       "      <td>Linkedin</td>\n",
       "      <td>0</td>\n",
       "      <td>3</td>\n",
       "      <td>Remain Constant</td>\n",
       "      <td>NO</td>\n",
       "      <td>Listening to music</td>\n",
       "      <td>NO</td>\n",
       "      <td>YES</td>\n",
       "      <td>Travelling</td>\n",
       "    </tr>\n",
       "    <tr>\n",
       "      <th>3</th>\n",
       "      <td>R4</td>\n",
       "      <td>Delhi-NCR</td>\n",
       "      <td>20</td>\n",
       "      <td>3.0</td>\n",
       "      <td>Very poor</td>\n",
       "      <td>Smartphone</td>\n",
       "      <td>2.0</td>\n",
       "      <td>1.0</td>\n",
       "      <td>6.0</td>\n",
       "      <td>5.0</td>\n",
       "      <td>Instagram</td>\n",
       "      <td>0</td>\n",
       "      <td>3</td>\n",
       "      <td>Decreased</td>\n",
       "      <td>NO</td>\n",
       "      <td>Watching web series</td>\n",
       "      <td>NO</td>\n",
       "      <td>NO</td>\n",
       "      <td>Friends , relatives</td>\n",
       "    </tr>\n",
       "    <tr>\n",
       "      <th>4</th>\n",
       "      <td>R5</td>\n",
       "      <td>Delhi-NCR</td>\n",
       "      <td>21</td>\n",
       "      <td>3.0</td>\n",
       "      <td>Good</td>\n",
       "      <td>Laptop/Desktop</td>\n",
       "      <td>3.0</td>\n",
       "      <td>1.0</td>\n",
       "      <td>8.0</td>\n",
       "      <td>3.0</td>\n",
       "      <td>Instagram</td>\n",
       "      <td>1</td>\n",
       "      <td>4</td>\n",
       "      <td>Remain Constant</td>\n",
       "      <td>NO</td>\n",
       "      <td>Social Media</td>\n",
       "      <td>NO</td>\n",
       "      <td>NO</td>\n",
       "      <td>Travelling</td>\n",
       "    </tr>\n",
       "  </tbody>\n",
       "</table>\n",
       "</div>"
      ],
      "text/plain": [
       "   ID     region  age  time_online_class rating_online_class          medium  \\\n",
       "0  R1  Delhi-NCR   21                2.0                Good  Laptop/Desktop   \n",
       "1  R2  Delhi-NCR   21                0.0           Excellent      Smartphone   \n",
       "2  R3  Delhi-NCR   20                7.0           Very poor  Laptop/Desktop   \n",
       "3  R4  Delhi-NCR   20                3.0           Very poor      Smartphone   \n",
       "4  R5  Delhi-NCR   21                3.0                Good  Laptop/Desktop   \n",
       "\n",
       "   time_self_study  time_fitness  time_sleep  time_social_media  \\\n",
       "0              4.0           0.0         7.0                3.0   \n",
       "1              0.0           2.0        10.0                3.0   \n",
       "2              3.0           0.0         6.0                2.0   \n",
       "3              2.0           1.0         6.0                5.0   \n",
       "4              3.0           1.0         8.0                3.0   \n",
       "\n",
       "  prefered_social_media time_tv  num_meals_per_day     delta_weight  \\\n",
       "0              Linkedin       1                  4        Increased   \n",
       "1               Youtube       0                  3        Decreased   \n",
       "2              Linkedin       0                  3  Remain Constant   \n",
       "3             Instagram       0                  3        Decreased   \n",
       "4             Instagram       1                  4  Remain Constant   \n",
       "\n",
       "  health_issue_in_lockdown                  stress_busters time_utilized  \\\n",
       "0                       NO                         Cooking           YES   \n",
       "1                       NO  Scrolling through social media           YES   \n",
       "2                       NO              Listening to music            NO   \n",
       "3                       NO             Watching web series            NO   \n",
       "4                       NO                    Social Media            NO   \n",
       "\n",
       "  more_family_connected              miss_most  \n",
       "0                   YES         School/college  \n",
       "1                    NO  Roaming around freely  \n",
       "2                   YES             Travelling  \n",
       "3                    NO    Friends , relatives  \n",
       "4                    NO             Travelling  "
      ]
     },
     "execution_count": 8,
     "metadata": {},
     "output_type": "execute_result"
    }
   ],
   "source": [
    "df.head()"
   ]
  },
  {
   "cell_type": "code",
   "execution_count": 9,
   "metadata": {
    "scrolled": true
   },
   "outputs": [],
   "source": [
    "df.drop(['ID'],axis=1,inplace=True)"
   ]
  },
  {
   "cell_type": "code",
   "execution_count": 10,
   "metadata": {},
   "outputs": [
    {
     "data": {
      "text/plain": [
       "region                       0\n",
       "age                          0\n",
       "time_online_class            0\n",
       "rating_online_class         24\n",
       "medium                      51\n",
       "time_self_study              0\n",
       "time_fitness                 0\n",
       "time_sleep                   0\n",
       "time_social_media            0\n",
       "prefered_social_media        0\n",
       "time_tv                      0\n",
       "num_meals_per_day            0\n",
       "delta_weight                 0\n",
       "health_issue_in_lockdown     0\n",
       "stress_busters               0\n",
       "time_utilized                0\n",
       "more_family_connected        0\n",
       "miss_most                    0\n",
       "dtype: int64"
      ]
     },
     "execution_count": 10,
     "metadata": {},
     "output_type": "execute_result"
    }
   ],
   "source": [
    "df.isna().sum()"
   ]
  },
  {
   "cell_type": "code",
   "execution_count": 11,
   "metadata": {},
   "outputs": [
    {
     "data": {
      "text/plain": [
       "array(['Good', 'Excellent', 'Very poor', 'Average', nan, 'Poor'],\n",
       "      dtype=object)"
      ]
     },
     "execution_count": 11,
     "metadata": {},
     "output_type": "execute_result"
    }
   ],
   "source": [
    "df['rating_online_class'].unique()"
   ]
  },
  {
   "cell_type": "code",
   "execution_count": 12,
   "metadata": {},
   "outputs": [
    {
     "data": {
      "text/plain": [
       "array(['Laptop/Desktop', 'Smartphone', 'Tablet', nan, 'Any Gadget',\n",
       "       'Smartphone or Laptop/Desktop'], dtype=object)"
      ]
     },
     "execution_count": 12,
     "metadata": {},
     "output_type": "execute_result"
    }
   ],
   "source": [
    "df['medium'].unique()"
   ]
  },
  {
   "cell_type": "code",
   "execution_count": 13,
   "metadata": {},
   "outputs": [],
   "source": [
    "df['rating_online_class'].replace(np.nan,'Average',inplace=True)\n",
    "df['medium'].replace(np.nan,'Any Gadget',inplace=True)"
   ]
  },
  {
   "cell_type": "code",
   "execution_count": 14,
   "metadata": {},
   "outputs": [
    {
     "data": {
      "text/html": [
       "<div>\n",
       "<style scoped>\n",
       "    .dataframe tbody tr th:only-of-type {\n",
       "        vertical-align: middle;\n",
       "    }\n",
       "\n",
       "    .dataframe tbody tr th {\n",
       "        vertical-align: top;\n",
       "    }\n",
       "\n",
       "    .dataframe thead th {\n",
       "        text-align: right;\n",
       "    }\n",
       "</style>\n",
       "<table border=\"1\" class=\"dataframe\">\n",
       "  <thead>\n",
       "    <tr style=\"text-align: right;\">\n",
       "      <th></th>\n",
       "      <th>region</th>\n",
       "      <th>age</th>\n",
       "      <th>time_online_class</th>\n",
       "      <th>rating_online_class</th>\n",
       "      <th>medium</th>\n",
       "      <th>time_self_study</th>\n",
       "      <th>time_fitness</th>\n",
       "      <th>time_sleep</th>\n",
       "      <th>time_social_media</th>\n",
       "      <th>prefered_social_media</th>\n",
       "      <th>time_tv</th>\n",
       "      <th>num_meals_per_day</th>\n",
       "      <th>delta_weight</th>\n",
       "      <th>health_issue_in_lockdown</th>\n",
       "      <th>stress_busters</th>\n",
       "      <th>time_utilized</th>\n",
       "      <th>more_family_connected</th>\n",
       "      <th>miss_most</th>\n",
       "    </tr>\n",
       "  </thead>\n",
       "  <tbody>\n",
       "    <tr>\n",
       "      <th>0</th>\n",
       "      <td>Delhi-NCR</td>\n",
       "      <td>21</td>\n",
       "      <td>2.0</td>\n",
       "      <td>Good</td>\n",
       "      <td>Laptop/Desktop</td>\n",
       "      <td>4.0</td>\n",
       "      <td>0.0</td>\n",
       "      <td>7.0</td>\n",
       "      <td>3.0</td>\n",
       "      <td>Linkedin</td>\n",
       "      <td>1</td>\n",
       "      <td>4</td>\n",
       "      <td>Increased</td>\n",
       "      <td>NO</td>\n",
       "      <td>Cooking</td>\n",
       "      <td>YES</td>\n",
       "      <td>YES</td>\n",
       "      <td>School/college</td>\n",
       "    </tr>\n",
       "    <tr>\n",
       "      <th>1</th>\n",
       "      <td>Delhi-NCR</td>\n",
       "      <td>21</td>\n",
       "      <td>0.0</td>\n",
       "      <td>Excellent</td>\n",
       "      <td>Smartphone</td>\n",
       "      <td>0.0</td>\n",
       "      <td>2.0</td>\n",
       "      <td>10.0</td>\n",
       "      <td>3.0</td>\n",
       "      <td>Youtube</td>\n",
       "      <td>0</td>\n",
       "      <td>3</td>\n",
       "      <td>Decreased</td>\n",
       "      <td>NO</td>\n",
       "      <td>Scrolling through social media</td>\n",
       "      <td>YES</td>\n",
       "      <td>NO</td>\n",
       "      <td>Roaming around freely</td>\n",
       "    </tr>\n",
       "    <tr>\n",
       "      <th>2</th>\n",
       "      <td>Delhi-NCR</td>\n",
       "      <td>20</td>\n",
       "      <td>7.0</td>\n",
       "      <td>Very poor</td>\n",
       "      <td>Laptop/Desktop</td>\n",
       "      <td>3.0</td>\n",
       "      <td>0.0</td>\n",
       "      <td>6.0</td>\n",
       "      <td>2.0</td>\n",
       "      <td>Linkedin</td>\n",
       "      <td>0</td>\n",
       "      <td>3</td>\n",
       "      <td>Remain Constant</td>\n",
       "      <td>NO</td>\n",
       "      <td>Listening to music</td>\n",
       "      <td>NO</td>\n",
       "      <td>YES</td>\n",
       "      <td>Travelling</td>\n",
       "    </tr>\n",
       "    <tr>\n",
       "      <th>3</th>\n",
       "      <td>Delhi-NCR</td>\n",
       "      <td>20</td>\n",
       "      <td>3.0</td>\n",
       "      <td>Very poor</td>\n",
       "      <td>Smartphone</td>\n",
       "      <td>2.0</td>\n",
       "      <td>1.0</td>\n",
       "      <td>6.0</td>\n",
       "      <td>5.0</td>\n",
       "      <td>Instagram</td>\n",
       "      <td>0</td>\n",
       "      <td>3</td>\n",
       "      <td>Decreased</td>\n",
       "      <td>NO</td>\n",
       "      <td>Watching web series</td>\n",
       "      <td>NO</td>\n",
       "      <td>NO</td>\n",
       "      <td>Friends , relatives</td>\n",
       "    </tr>\n",
       "    <tr>\n",
       "      <th>4</th>\n",
       "      <td>Delhi-NCR</td>\n",
       "      <td>21</td>\n",
       "      <td>3.0</td>\n",
       "      <td>Good</td>\n",
       "      <td>Laptop/Desktop</td>\n",
       "      <td>3.0</td>\n",
       "      <td>1.0</td>\n",
       "      <td>8.0</td>\n",
       "      <td>3.0</td>\n",
       "      <td>Instagram</td>\n",
       "      <td>1</td>\n",
       "      <td>4</td>\n",
       "      <td>Remain Constant</td>\n",
       "      <td>NO</td>\n",
       "      <td>Social Media</td>\n",
       "      <td>NO</td>\n",
       "      <td>NO</td>\n",
       "      <td>Travelling</td>\n",
       "    </tr>\n",
       "  </tbody>\n",
       "</table>\n",
       "</div>"
      ],
      "text/plain": [
       "      region  age  time_online_class rating_online_class          medium  \\\n",
       "0  Delhi-NCR   21                2.0                Good  Laptop/Desktop   \n",
       "1  Delhi-NCR   21                0.0           Excellent      Smartphone   \n",
       "2  Delhi-NCR   20                7.0           Very poor  Laptop/Desktop   \n",
       "3  Delhi-NCR   20                3.0           Very poor      Smartphone   \n",
       "4  Delhi-NCR   21                3.0                Good  Laptop/Desktop   \n",
       "\n",
       "   time_self_study  time_fitness  time_sleep  time_social_media  \\\n",
       "0              4.0           0.0         7.0                3.0   \n",
       "1              0.0           2.0        10.0                3.0   \n",
       "2              3.0           0.0         6.0                2.0   \n",
       "3              2.0           1.0         6.0                5.0   \n",
       "4              3.0           1.0         8.0                3.0   \n",
       "\n",
       "  prefered_social_media time_tv  num_meals_per_day     delta_weight  \\\n",
       "0              Linkedin       1                  4        Increased   \n",
       "1               Youtube       0                  3        Decreased   \n",
       "2              Linkedin       0                  3  Remain Constant   \n",
       "3             Instagram       0                  3        Decreased   \n",
       "4             Instagram       1                  4  Remain Constant   \n",
       "\n",
       "  health_issue_in_lockdown                  stress_busters time_utilized  \\\n",
       "0                       NO                         Cooking           YES   \n",
       "1                       NO  Scrolling through social media           YES   \n",
       "2                       NO              Listening to music            NO   \n",
       "3                       NO             Watching web series            NO   \n",
       "4                       NO                    Social Media            NO   \n",
       "\n",
       "  more_family_connected              miss_most  \n",
       "0                   YES         School/college  \n",
       "1                    NO  Roaming around freely  \n",
       "2                   YES             Travelling  \n",
       "3                    NO    Friends , relatives  \n",
       "4                    NO             Travelling  "
      ]
     },
     "execution_count": 14,
     "metadata": {},
     "output_type": "execute_result"
    }
   ],
   "source": [
    "df.head()"
   ]
  },
  {
   "cell_type": "code",
   "execution_count": 33,
   "metadata": {},
   "outputs": [
    {
     "data": {
      "text/plain": [
       "region                       2\n",
       "age                         42\n",
       "time_online_class           21\n",
       "rating_online_class          5\n",
       "medium                       5\n",
       "time_self_study             23\n",
       "time_fitness                11\n",
       "time_sleep                  18\n",
       "time_social_media           22\n",
       "prefered_social_media       15\n",
       "time_tv                     21\n",
       "num_meals_per_day            8\n",
       "delta_weight                 3\n",
       "health_issue_in_lockdown     2\n",
       "stress_busters              86\n",
       "time_utilized                2\n",
       "more_family_connected        2\n",
       "miss_most                    8\n",
       "dtype: int64"
      ]
     },
     "execution_count": 33,
     "metadata": {},
     "output_type": "execute_result"
    }
   ],
   "source": [
    "df.nunique()"
   ]
  },
  {
   "cell_type": "code",
   "execution_count": 15,
   "metadata": {},
   "outputs": [
    {
     "data": {
      "text/plain": [
       "array(['1', '0', '3', '0.5', 'n', '2', '4.5', '1.5', 'N', '4', '0.3', '5',\n",
       "       'No tv', '0.1', '0.25', '6', '0.6', '7', '8', '15', ' ', '0.75',\n",
       "       '2.5', '3.5', '0.4'], dtype=object)"
      ]
     },
     "execution_count": 15,
     "metadata": {},
     "output_type": "execute_result"
    }
   ],
   "source": [
    "df['time_tv'].unique()"
   ]
  },
  {
   "cell_type": "code",
   "execution_count": 16,
   "metadata": {},
   "outputs": [
    {
     "data": {
      "text/plain": [
       "0       1.0\n",
       "1       0.0\n",
       "2       0.0\n",
       "3       0.0\n",
       "4       1.0\n",
       "       ... \n",
       "1177    2.0\n",
       "1178    1.0\n",
       "1179    2.0\n",
       "1180    1.0\n",
       "1181    1.0\n",
       "Name: time_tv, Length: 1182, dtype: float64"
      ]
     },
     "execution_count": 16,
     "metadata": {},
     "output_type": "execute_result"
    }
   ],
   "source": [
    "df['time_tv'].replace({'n':'0','N':'0','No tv':'0',' ':'0'},inplace=True)\n",
    "df['time_tv'].astype('float', copy = True)"
   ]
  },
  {
   "cell_type": "code",
   "execution_count": 17,
   "metadata": {},
   "outputs": [
    {
     "data": {
      "text/plain": [
       "Instagram    352\n",
       "Whatsapp     336\n",
       "Youtube      314\n",
       "Linkedin      61\n",
       "Facebook      52\n",
       "Twitter       28\n",
       "None          17\n",
       "Snapchat       8\n",
       "Reddit         5\n",
       "Telegram       3\n",
       "Quora          1\n",
       "WhatsApp       1\n",
       "Talklife       1\n",
       "None           1\n",
       "Omegle         1\n",
       "Elyment        1\n",
       "Name: prefered_social_media, dtype: int64"
      ]
     },
     "execution_count": 17,
     "metadata": {},
     "output_type": "execute_result"
    }
   ],
   "source": [
    "df['prefered_social_media'].value_counts()"
   ]
  },
  {
   "cell_type": "code",
   "execution_count": 20,
   "metadata": {},
   "outputs": [],
   "source": [
    "df['prefered_social_media'].replace({'None':'None','Whatsapp':'WhatsApp'},inplace=True)"
   ]
  },
  {
   "cell_type": "code",
   "execution_count": 21,
   "metadata": {},
   "outputs": [
    {
     "data": {
      "text/plain": [
       "Instagram    352\n",
       "WhatsApp     337\n",
       "Youtube      314\n",
       "Linkedin      61\n",
       "Facebook      52\n",
       "Twitter       28\n",
       "None          17\n",
       "Snapchat       8\n",
       "Reddit         5\n",
       "Telegram       3\n",
       "Quora          1\n",
       "Talklife       1\n",
       "None           1\n",
       "Omegle         1\n",
       "Elyment        1\n",
       "Name: prefered_social_media, dtype: int64"
      ]
     },
     "execution_count": 21,
     "metadata": {},
     "output_type": "execute_result"
    }
   ],
   "source": [
    "df['prefered_social_media'].value_counts()"
   ]
  },
  {
   "cell_type": "code",
   "execution_count": 22,
   "metadata": {
    "scrolled": true
   },
   "outputs": [
    {
     "data": {
      "text/plain": [
       "School/college                                                                                                                                                                                                              379\n",
       "Friends , relatives                                                                                                                                                                                                         223\n",
       "Travelling                                                                                                                                                                                                                  183\n",
       "Roaming around freely                                                                                                                                                                                                       149\n",
       "Eating outside                                                                                                                                                                                                              104\n",
       "Colleagues                                                                                                                                                                                                                   67\n",
       "Nothing                                                                                                                                                                                                                      11\n",
       "ALL                                                                                                                                                                                                                           9\n",
       "All                                                                                                                                                                                                                           9\n",
       "Gym                                                                                                                                                                                                                           4\n",
       "Only friends                                                                                                                                                                                                                  2\n",
       "nothing                                                                                                                                                                                                                       2\n",
       "NOTHING                                                                                                                                                                                                                       2\n",
       "All above                                                                                                                                                                                                                     1\n",
       "Friends and School                                                                                                                                                                                                            1\n",
       "Internet                                                                                                                                                                                                                      1\n",
       "All of the above                                                                                                                                                                                                              1\n",
       "Friends,Romaing and traveling                                                                                                                                                                                                 1\n",
       "School and my school friends                                                                                                                                                                                                  1\n",
       "School and friends.                                                                                                                                                                                                           1\n",
       "All of them                                                                                                                                                                                                                   1\n",
       "Friends, relatives & travelling                                                                                                                                                                                               1\n",
       "Travelling & Friends                                                                                                                                                                                                          1\n",
       "Eating outside and friends.                                                                                                                                                                                                   1\n",
       "all of the above                                                                                                                                                                                                              1\n",
       "all                                                                                                                                                                                                                           1\n",
       "All                                                                                                                                                                                                                           1\n",
       "Going to the movies                                                                                                                                                                                                           1\n",
       "school, relatives and friends                                                                                                                                                                                                 1\n",
       "The idea of being around fun loving people but this time has certainly made us all to reconnect (and fill the gap if any) with our families and relatives so it is fun but certainly we do miss hanging out with friends      1\n",
       "everything                                                                                                                                                                                                                    1\n",
       "Friends and roaming around freely                                                                                                                                                                                             1\n",
       "Metro                                                                                                                                                                                                                         1\n",
       "Being social                                                                                                                                                                                                                  1\n",
       "Previous mistakes                                                                                                                                                                                                             1\n",
       "Family                                                                                                                                                                                                                        1\n",
       "Football                                                                                                                                                                                                                      1\n",
       "Nothing this is my usual life                                                                                                                                                                                                 1\n",
       "Normal life                                                                                                                                                                                                                   1\n",
       "Job                                                                                                                                                                                                                           1\n",
       ".                                                                                                                                                                                                                             1\n",
       "Family                                                                                                                                                                                                                        1\n",
       "I have missed nothing                                                                                                                                                                                                         1\n",
       "Nothing                                                                                                                                                                                                                       1\n",
       "My normal routine                                                                                                                                                                                                             1\n",
       "Badminton in court                                                                                                                                                                                                            1\n",
       "Playing                                                                                                                                                                                                                       1\n",
       "Nah, this is my usual lifestyle anyway, just being lazy....                                                                                                                                                                   1\n",
       "To stay alone.                                                                                                                                                                                                                1\n",
       "All the above                                                                                                                                                                                                                 1\n",
       "Taking kids to park                                                                                                                                                                                                           1\n",
       "Name: miss_most, dtype: int64"
      ]
     },
     "execution_count": 22,
     "metadata": {},
     "output_type": "execute_result"
    }
   ],
   "source": [
    "df['miss_most'].value_counts()"
   ]
  },
  {
   "cell_type": "code",
   "execution_count": 29,
   "metadata": {},
   "outputs": [],
   "source": [
    "df['miss_most'].replace(\n",
    "    [\n",
    "        'All the above',\n",
    "        'All of the above ',\n",
    "        'everything',\n",
    "        'All above',\n",
    "        'all of the above',\n",
    "        'ALL','all',\n",
    "        'All of the above',\n",
    "        'all of them',\n",
    "        'All of them',\n",
    "        'All '\n",
    "    ],\n",
    "    'All', inplace=True)"
   ]
  },
  {
   "cell_type": "code",
   "execution_count": 30,
   "metadata": {},
   "outputs": [],
   "source": [
    "df['miss_most'].replace(\n",
    "[\n",
    "    'NOTHING',\n",
    "        'Nothing this is my usual life',\n",
    "        'To stay alone. ',\n",
    "        'Nothing ',\n",
    "        'Nah, this is my usual lifestyle anyway, just being lazy....',\n",
    "        'Normal life',\n",
    "        'My normal routine',\n",
    "        'nothing',\n",
    "        'Job',\n",
    "        'I have missed nothing',\n",
    "        'Previous mistakes',\n",
    "        '.',\n",
    "        'I have missed nothing ',\n",
    "        'Internet'\n",
    "    ],\n",
    "    'Nothing',inplace=True)"
   ]
  },
  {
   "cell_type": "code",
   "execution_count": 31,
   "metadata": {},
   "outputs": [],
   "source": [
    "df['miss_most'].replace(\n",
    "[\n",
    "    'Only friends',\n",
    "        'Friends , relatives',\n",
    "        'relatives and friends',\n",
    "        'Family ',\n",
    "        'The idea of being around fun loving people but this time has certainly made us all to reconnect (and fill the gap if any) with our families and relatives so it is fun but certainly we do miss hanging out with friends',\n",
    "        'Family',\n",
    "        'Friends, relatives & travelling',\n",
    "        'Travelling & Friends',\n",
    "        'School and friends',\n",
    "        'Friends and School',\n",
    "        'Eating outside and friends.',\n",
    "        'School and friends.',\n",
    "        'school, relatives and friends',\n",
    "        'School and my school friends'\n",
    "    ],\n",
    "    'Friends/Relatives/Family',inplace=True)"
   ]
  },
  {
   "cell_type": "code",
   "execution_count": 32,
   "metadata": {},
   "outputs": [],
   "source": [
    "df['miss_most'].replace(\n",
    "    [\n",
    "        'Playing',\n",
    "        'Roaming around freely',\n",
    "        'Taking kids to park',\n",
    "        'Being social ',\n",
    "        'Friends and roaming around freely',\n",
    "        'Friends,Romaing and traveling',\n",
    "        'Metro',\n",
    "        'Going to the movies',\n",
    "        'Gym',\n",
    "        'Football',\n",
    "        'Badminton in court'\n",
    "    ],\n",
    "    'Passing Time Outside', inplace=True)"
   ]
  },
  {
   "cell_type": "code",
   "execution_count": 34,
   "metadata": {},
   "outputs": [
    {
     "data": {
      "text/plain": [
       "Listening to music                276\n",
       "Online gaming                     175\n",
       "Watching web series               102\n",
       "Reading books                      77\n",
       "Scrolling through social media     74\n",
       "                                 ... \n",
       "Painting                            1\n",
       "Calling friends                     1\n",
       "Many among these                    1\n",
       "Playing                             1\n",
       "Sketching and writing               1\n",
       "Name: stress_busters, Length: 86, dtype: int64"
      ]
     },
     "execution_count": 34,
     "metadata": {},
     "output_type": "execute_result"
    }
   ],
   "source": [
    "df['stress_busters'].value_counts()"
   ]
  },
  {
   "cell_type": "code",
   "execution_count": 35,
   "metadata": {},
   "outputs": [],
   "source": [
    "df['stress_busters'].replace(\n",
    "    [\n",
    "        ['Sleep'],\n",
    "        ['Scrolling through social media'],\n",
    "        ['Reading books'],\n",
    "        ['Talking to your relatives']\n",
    "    ],\n",
    "    ['Sleeping', 'Social Media', 'Reading', 'Talking'], inplace=True)"
   ]
  },
  {
   "cell_type": "code",
   "execution_count": 36,
   "metadata": {},
   "outputs": [],
   "source": [
    "df['stress_busters'].replace(\n",
    "    [\n",
    "        'Exercising','Exercise','Gym','Workout ','Cardio',\n",
    "        'workout','working out and some physical activity'\n",
    "    ],\n",
    "    'Exercise/Gym', inplace=True)"
   ]
  },
  {
   "cell_type": "code",
   "execution_count": 37,
   "metadata": {},
   "outputs": [],
   "source": [
    "df['stress_busters'].replace([\n",
    "    'Talking with friends ','Talking','Talking to friends','With a friend',\n",
    "    'Calling friends','Taking with parents','Talk with childhood friends.',\n",
    "], 'Talking', inplace=True)"
   ]
  },
  {
   "cell_type": "code",
   "execution_count": 38,
   "metadata": {},
   "outputs": [],
   "source": [
    "df['stress_busters'].replace([\n",
    "    'Listening to music',' listening music, motion design, graphic design, sleeping.',\n",
    "    'singing','Workout and listening music',\n",
    "    'Both listining music and scrolling down social media',\n",
    "    'Listening to music and reading books both . ',\n",
    "    'Poetry, writing books and novels , listening to music too'\n",
    "], 'Music', inplace=True)"
   ]
  },
  {
   "cell_type": "code",
   "execution_count": 39,
   "metadata": {},
   "outputs": [],
   "source": [
    "df['stress_busters'].replace([\n",
    "    'Online surfing','live stream watching','Watching orgasm releasing videos','Anime Manga',\n",
    "    'Watching ted talks and music and books','Watching YouTube ','Internet',\n",
    "    'Online gaming , surfing and listening to music ','Web Series','Watching web series',\n",
    "    'Netflix, Friends and Books','Youtube'\n",
    "], 'Internet Surfing', inplace=True)"
   ]
  },
  {
   "cell_type": "code",
   "execution_count": 41,
   "metadata": {},
   "outputs": [],
   "source": [
    "df['stress_busters'].replace([\n",
    "    'Coding and studying for exams',\n",
    "    'sketching,reading books,meditation,songs',\n",
    "    'Many of these',\n",
    "    'All reading books watching web series listening to music and talking to friends',\n",
    "    'Many among these ',\n",
    "    'Do some home related stuff',\n",
    "    'watching movies,reading books,games,listening to music,sleep,dancing',\n",
    "    'Reading books, music, exercise',\n",
    "    'Whatever want','listening to music,reading books and dancing.',\n",
    "], 'Many Things', inplace=True)"
   ]
  },
  {
   "cell_type": "code",
   "execution_count": 42,
   "metadata": {},
   "outputs": [],
   "source": [
    "df['stress_busters'].replace([\n",
    "    'Reading','drawing','Dancing','Meditation','Driving','Drawing, painting','Forming ','Painting','Sketching',\n",
    "    'Sports','Painting ','Drawing','Football','Business','Running','I run','Drawing and painting and sketching',\n",
    "    'I play Rubiks cube','Indoor Games','I cant de-stress myslef','Writing my own Comics & novels',\n",
    "    'I have no problem of stress ','Sketching and writing','By engaging in my work.', 'Work',\n",
    "    'Painting,. Sewing','Crying','Dont get distreessed','gardening cartoon','Playing ','no stress',\n",
    "    'Cricket','No able to reduce the stress ','drawing ','Writing'\n",
    "], 'Doing Extra Activities', inplace=True)"
   ]
  },
  {
   "cell_type": "code",
   "execution_count": 43,
   "metadata": {},
   "outputs": [],
   "source": [
    "df['stress_busters'].replace([\n",
    "    'Sleeping, Online games',\n",
    "    'pubg'\n",
    "], 'Online gaming', inplace=True)"
   ]
  },
  {
   "cell_type": "code",
   "execution_count": 46,
   "metadata": {},
   "outputs": [
    {
     "data": {
      "text/plain": [
       "Music                     282\n",
       "Doing Extra Activities    209\n",
       "Internet Surfing          183\n",
       "Online gaming             177\n",
       "Sleeping                  105\n",
       "Social Media              100\n",
       "Talking                    62\n",
       "Cooking                    41\n",
       "Exercise/Gym               13\n",
       "Many Things                10\n",
       "Name: stress_busters, dtype: int64"
      ]
     },
     "execution_count": 46,
     "metadata": {},
     "output_type": "execute_result"
    }
   ],
   "source": [
    "df['stress_busters'].value_counts()"
   ]
  },
  {
   "cell_type": "code",
   "execution_count": 47,
   "metadata": {},
   "outputs": [
    {
     "data": {
      "text/html": [
       "<div>\n",
       "<style scoped>\n",
       "    .dataframe tbody tr th:only-of-type {\n",
       "        vertical-align: middle;\n",
       "    }\n",
       "\n",
       "    .dataframe tbody tr th {\n",
       "        vertical-align: top;\n",
       "    }\n",
       "\n",
       "    .dataframe thead th {\n",
       "        text-align: right;\n",
       "    }\n",
       "</style>\n",
       "<table border=\"1\" class=\"dataframe\">\n",
       "  <thead>\n",
       "    <tr style=\"text-align: right;\">\n",
       "      <th></th>\n",
       "      <th>region</th>\n",
       "      <th>age</th>\n",
       "      <th>time_online_class</th>\n",
       "      <th>rating_online_class</th>\n",
       "      <th>medium</th>\n",
       "      <th>time_self_study</th>\n",
       "      <th>time_fitness</th>\n",
       "      <th>time_sleep</th>\n",
       "      <th>time_social_media</th>\n",
       "      <th>prefered_social_media</th>\n",
       "      <th>time_tv</th>\n",
       "      <th>num_meals_per_day</th>\n",
       "      <th>delta_weight</th>\n",
       "      <th>health_issue_in_lockdown</th>\n",
       "      <th>stress_busters</th>\n",
       "      <th>time_utilized</th>\n",
       "      <th>more_family_connected</th>\n",
       "      <th>miss_most</th>\n",
       "    </tr>\n",
       "  </thead>\n",
       "  <tbody>\n",
       "    <tr>\n",
       "      <th>0</th>\n",
       "      <td>Delhi-NCR</td>\n",
       "      <td>21</td>\n",
       "      <td>2.0</td>\n",
       "      <td>Good</td>\n",
       "      <td>Laptop/Desktop</td>\n",
       "      <td>4.0</td>\n",
       "      <td>0.0</td>\n",
       "      <td>7.0</td>\n",
       "      <td>3.0</td>\n",
       "      <td>Linkedin</td>\n",
       "      <td>1</td>\n",
       "      <td>4</td>\n",
       "      <td>Increased</td>\n",
       "      <td>NO</td>\n",
       "      <td>Cooking</td>\n",
       "      <td>YES</td>\n",
       "      <td>YES</td>\n",
       "      <td>School/college</td>\n",
       "    </tr>\n",
       "    <tr>\n",
       "      <th>1</th>\n",
       "      <td>Delhi-NCR</td>\n",
       "      <td>21</td>\n",
       "      <td>0.0</td>\n",
       "      <td>Excellent</td>\n",
       "      <td>Smartphone</td>\n",
       "      <td>0.0</td>\n",
       "      <td>2.0</td>\n",
       "      <td>10.0</td>\n",
       "      <td>3.0</td>\n",
       "      <td>Youtube</td>\n",
       "      <td>0</td>\n",
       "      <td>3</td>\n",
       "      <td>Decreased</td>\n",
       "      <td>NO</td>\n",
       "      <td>Social Media</td>\n",
       "      <td>YES</td>\n",
       "      <td>NO</td>\n",
       "      <td>Passing Time Outside</td>\n",
       "    </tr>\n",
       "    <tr>\n",
       "      <th>2</th>\n",
       "      <td>Delhi-NCR</td>\n",
       "      <td>20</td>\n",
       "      <td>7.0</td>\n",
       "      <td>Very poor</td>\n",
       "      <td>Laptop/Desktop</td>\n",
       "      <td>3.0</td>\n",
       "      <td>0.0</td>\n",
       "      <td>6.0</td>\n",
       "      <td>2.0</td>\n",
       "      <td>Linkedin</td>\n",
       "      <td>0</td>\n",
       "      <td>3</td>\n",
       "      <td>Remain Constant</td>\n",
       "      <td>NO</td>\n",
       "      <td>Music</td>\n",
       "      <td>NO</td>\n",
       "      <td>YES</td>\n",
       "      <td>Travelling</td>\n",
       "    </tr>\n",
       "    <tr>\n",
       "      <th>3</th>\n",
       "      <td>Delhi-NCR</td>\n",
       "      <td>20</td>\n",
       "      <td>3.0</td>\n",
       "      <td>Very poor</td>\n",
       "      <td>Smartphone</td>\n",
       "      <td>2.0</td>\n",
       "      <td>1.0</td>\n",
       "      <td>6.0</td>\n",
       "      <td>5.0</td>\n",
       "      <td>Instagram</td>\n",
       "      <td>0</td>\n",
       "      <td>3</td>\n",
       "      <td>Decreased</td>\n",
       "      <td>NO</td>\n",
       "      <td>Internet Surfing</td>\n",
       "      <td>NO</td>\n",
       "      <td>NO</td>\n",
       "      <td>Friends/Relatives/Family</td>\n",
       "    </tr>\n",
       "    <tr>\n",
       "      <th>4</th>\n",
       "      <td>Delhi-NCR</td>\n",
       "      <td>21</td>\n",
       "      <td>3.0</td>\n",
       "      <td>Good</td>\n",
       "      <td>Laptop/Desktop</td>\n",
       "      <td>3.0</td>\n",
       "      <td>1.0</td>\n",
       "      <td>8.0</td>\n",
       "      <td>3.0</td>\n",
       "      <td>Instagram</td>\n",
       "      <td>1</td>\n",
       "      <td>4</td>\n",
       "      <td>Remain Constant</td>\n",
       "      <td>NO</td>\n",
       "      <td>Social Media</td>\n",
       "      <td>NO</td>\n",
       "      <td>NO</td>\n",
       "      <td>Travelling</td>\n",
       "    </tr>\n",
       "  </tbody>\n",
       "</table>\n",
       "</div>"
      ],
      "text/plain": [
       "      region  age  time_online_class rating_online_class          medium  \\\n",
       "0  Delhi-NCR   21                2.0                Good  Laptop/Desktop   \n",
       "1  Delhi-NCR   21                0.0           Excellent      Smartphone   \n",
       "2  Delhi-NCR   20                7.0           Very poor  Laptop/Desktop   \n",
       "3  Delhi-NCR   20                3.0           Very poor      Smartphone   \n",
       "4  Delhi-NCR   21                3.0                Good  Laptop/Desktop   \n",
       "\n",
       "   time_self_study  time_fitness  time_sleep  time_social_media  \\\n",
       "0              4.0           0.0         7.0                3.0   \n",
       "1              0.0           2.0        10.0                3.0   \n",
       "2              3.0           0.0         6.0                2.0   \n",
       "3              2.0           1.0         6.0                5.0   \n",
       "4              3.0           1.0         8.0                3.0   \n",
       "\n",
       "  prefered_social_media time_tv  num_meals_per_day     delta_weight  \\\n",
       "0              Linkedin       1                  4        Increased   \n",
       "1               Youtube       0                  3        Decreased   \n",
       "2              Linkedin       0                  3  Remain Constant   \n",
       "3             Instagram       0                  3        Decreased   \n",
       "4             Instagram       1                  4  Remain Constant   \n",
       "\n",
       "  health_issue_in_lockdown    stress_busters time_utilized  \\\n",
       "0                       NO           Cooking           YES   \n",
       "1                       NO      Social Media           YES   \n",
       "2                       NO             Music            NO   \n",
       "3                       NO  Internet Surfing            NO   \n",
       "4                       NO      Social Media            NO   \n",
       "\n",
       "  more_family_connected                 miss_most  \n",
       "0                   YES            School/college  \n",
       "1                    NO      Passing Time Outside  \n",
       "2                   YES                Travelling  \n",
       "3                    NO  Friends/Relatives/Family  \n",
       "4                    NO                Travelling  "
      ]
     },
     "execution_count": 47,
     "metadata": {},
     "output_type": "execute_result"
    }
   ],
   "source": [
    "a=df.head()"
   ]
  },
  {
   "cell_type": "code",
   "execution_count": 60,
   "metadata": {},
   "outputs": [
    {
     "data": {
      "text/plain": [
       "Text(0, 0.5, 'numeber of counts')"
      ]
     },
     "execution_count": 60,
     "metadata": {},
     "output_type": "execute_result"
    },
    {
     "data": {
      "image/png": "[encoded data removed]",
      "text/plain": [
       "<Figure size 1440x720 with 1 Axes>"
      ]
     },
     "metadata": {
      "needs_background": "light"
     },
     "output_type": "display_data"
    }
   ],
   "source": [
    "plt.figure(figsize=(20,10))\n",
    "plt.hist(df['age'], bins=50, color='green')\n",
    "plt.xlabel('age')\n",
    "plt.ylabel('numeber of counts')"
   ]
  },
  {
   "cell_type": "code",
   "execution_count": 67,
   "metadata": {},
   "outputs": [
    {
     "data": {
      "text/plain": [
       "<matplotlib.axes._subplots.AxesSubplot at 0x1330d385490>"
      ]
     },
     "execution_count": 67,
     "metadata": {},
     "output_type": "execute_result"
    },
    {
     "data": {
      "image/png": "[encoded data removed]",
      "text/plain": [
       "<Figure size 432x288 with 1 Axes>"
      ]
     },
     "metadata": {
      "needs_background": "light"
     },
     "output_type": "display_data"
    }
   ],
   "source": [
    "X = ['Good','excellent','Very Poor','Average','Poor']\n",
    "Y = df['rating_online_class'].value_counts() * 100/ df['rating_online_class'].value_counts().sum()\n",
    "sns.barplot(x =X,y = Y,data=df)"
   ]
  },
  {
   "cell_type": "code",
   "execution_count": 68,
   "metadata": {},
   "outputs": [
    {
     "data": {
      "text/plain": [
       "NO     608\n",
       "YES    574\n",
       "Name: time_utilized, dtype: int64"
      ]
     },
     "execution_count": 68,
     "metadata": {},
     "output_type": "execute_result"
    }
   ],
   "source": [
    "df['time_utilized'].value_counts()"
   ]
  },
  {
   "cell_type": "code",
   "execution_count": 81,
   "metadata": {},
   "outputs": [
    {
     "data": {
      "image/png": "[encoded data removed]",
      "text/plain": [
       "<Figure size 432x288 with 1 Axes>"
      ]
     },
     "metadata": {},
     "output_type": "display_data"
    }
   ],
   "source": [
    "x = df.time_utilized.value_counts()\n",
    "labels = ['No', 'Yes']\n",
    "colors = ['red','yellow']\n",
    "plt.pie(\n",
    "    x,\n",
    "    labels = labels,\n",
    "    colors = colors,\n",
    "    autopct = '%1.1f%%'\n",
    ");"
   ]
  },
  {
   "cell_type": "code",
   "execution_count": 111,
   "metadata": {},
   "outputs": [
    {
     "data": {
      "text/plain": [
       "<matplotlib.axes._subplots.AxesSubplot at 0x13310a4e070>"
      ]
     },
     "execution_count": 111,
     "metadata": {},
     "output_type": "execute_result"
    },
    {
     "data": {
      "image/png": "[encoded data removed]",
      "text/plain": [
       "<Figure size 720x720 with 4 Axes>"
      ]
     },
     "metadata": {
      "needs_background": "light"
     },
     "output_type": "display_data"
    }
   ],
   "source": [
    "fig,ax = plt.subplots(2,2,figsize=(10,10))\n",
    "\n",
    "x = df['age']\n",
    "y = df['time_online_class']\n",
    "sns.scatterplot(x=x, y=y, data=df,ax=ax[0,0])\n",
    "x = df['age']\n",
    "y = df['time_self_study']\n",
    "sns.scatterplot(x=x, y=y, data=df,ax=ax[0,1])\n",
    "x = df['age']\n",
    "y = df['time_sleep']\n",
    "sns.scatterplot(x=x, y=y, data=df,ax=ax[1,0])\n",
    "x = df['age']\n",
    "y = df['time_social_media']\n",
    "sns.scatterplot(x=x, y=y, data=df,ax=ax[1,1])"
   ]
  },
  {
   "cell_type": "markdown",
   "metadata": {},
   "source": [
    "Q1"
   ]
  },
  {
   "cell_type": "code",
   "execution_count": 105,
   "metadata": {},
   "outputs": [
    {
     "data": {
      "text/plain": [
       "Instagram    352\n",
       "WhatsApp     337\n",
       "Youtube      314\n",
       "Linkedin      61\n",
       "Facebook      52\n",
       "Twitter       28\n",
       "None          17\n",
       "Snapchat       8\n",
       "Reddit         5\n",
       "Telegram       3\n",
       "Quora          1\n",
       "Talklife       1\n",
       "None           1\n",
       "Omegle         1\n",
       "Elyment        1\n",
       "Name: prefered_social_media, dtype: int64"
      ]
     },
     "execution_count": 105,
     "metadata": {},
     "output_type": "execute_result"
    }
   ],
   "source": [
    "df['prefered_social_media'].value_counts()"
   ]
  },
  {
   "cell_type": "code",
   "execution_count": 113,
   "metadata": {
    "scrolled": false
   },
   "outputs": [
    {
     "data": {
      "text/plain": [
       "<matplotlib.axes._subplots.AxesSubplot at 0x1331037c3a0>"
      ]
     },
     "execution_count": 113,
     "metadata": {},
     "output_type": "execute_result"
    },
    {
     "data": {
      "image/png": "[encoded data removed]",
      "text/plain": [
       "<Figure size 720x720 with 1 Axes>"
      ]
     },
     "metadata": {
      "needs_background": "light"
     },
     "output_type": "display_data"
    }
   ],
   "source": [
    "plt.figure(figsize=(10,10))\n",
    "\n",
    "x1 = df['prefered_social_media'].value_counts()*100 / df['prefered_social_media'].value_counts().sum()\n",
    "sns.barplot(x=x1,y=x1.index,data=df)"
   ]
  },
  {
   "cell_type": "markdown",
   "metadata": {},
   "source": [
    "Q2"
   ]
  },
  {
   "cell_type": "code",
   "execution_count": 121,
   "metadata": {},
   "outputs": [
    {
     "data": {
      "image/png": "[encoded data removed]",
      "text/plain": [
       "<Figure size 432x288 with 1 Axes>"
      ]
     },
     "metadata": {},
     "output_type": "display_data"
    }
   ],
   "source": [
    "x = df['more_family_connected'].value_counts()\n",
    "labels=[\"YES\",\"NO\"]\n",
    "colors = ['gold','green']\n",
    "plt.pie(\n",
    "    x,\n",
    "    labels = labels,\n",
    "    colors = colors,\n",
    "    autopct = '%1.1f%%',\n",
    "    explode=(0, 0.1),\n",
    "    shadow = True\n",
    ");"
   ]
  },
  {
   "cell_type": "markdown",
   "metadata": {},
   "source": [
    "Q3"
   ]
  },
  {
   "cell_type": "code",
   "execution_count": 122,
   "metadata": {},
   "outputs": [
    {
     "data": {
      "text/plain": [
       "School/college              379\n",
       "Friends/Relatives/Family    235\n",
       "Travelling                  183\n",
       "Passing Time Outside        162\n",
       "Eating outside              104\n",
       "Colleagues                   67\n",
       "Nothing                      26\n",
       "All                          26\n",
       "Name: miss_most, dtype: int64"
      ]
     },
     "execution_count": 122,
     "metadata": {},
     "output_type": "execute_result"
    }
   ],
   "source": [
    "df['miss_most'].value_counts()"
   ]
  },
  {
   "cell_type": "code",
   "execution_count": 124,
   "metadata": {},
   "outputs": [
    {
     "data": {
      "text/plain": [
       "<matplotlib.axes._subplots.AxesSubplot at 0x133124b91f0>"
      ]
     },
     "execution_count": 124,
     "metadata": {},
     "output_type": "execute_result"
    },
    {
     "data": {
      "image/png": "[encoded data removed]",
      "text/plain": [
       "<Figure size 1080x1080 with 1 Axes>"
      ]
     },
     "metadata": {
      "needs_background": "light"
     },
     "output_type": "display_data"
    }
   ],
   "source": [
    "plt.figure(figsize=(15,15))\n",
    "sns.countplot('miss_most',data=df)"
   ]
  },
  {
   "cell_type": "markdown",
   "metadata": {},
   "source": [
    "Q4"
   ]
  },
  {
   "cell_type": "code",
   "execution_count": 136,
   "metadata": {},
   "outputs": [
    {
     "data": {
      "text/plain": [
       "Remain Constant    535\n",
       "Increased          438\n",
       "Decreased          209\n",
       "Name: delta_weight, dtype: int64"
      ]
     },
     "execution_count": 136,
     "metadata": {},
     "output_type": "execute_result"
    }
   ],
   "source": [
    "df['delta_weight'].value_counts()"
   ]
  },
  {
   "cell_type": "code",
   "execution_count": 137,
   "metadata": {},
   "outputs": [
    {
     "data": {
      "image/png": "[encoded data removed]",
      "text/plain": [
       "<Figure size 432x288 with 1 Axes>"
      ]
     },
     "metadata": {},
     "output_type": "display_data"
    }
   ],
   "source": [
    "x = df['delta_weight'].value_counts()\n",
    "labels = ['Remain Constant','Increased','Decreased']\n",
    "colors = ['gold','blue','green']\n",
    "plt.pie(\n",
    "    x,\n",
    "    labels = labels,\n",
    "    colors = colors,\n",
    "    autopct = '%1.1f%%',\n",
    "    explode=(0, 0.1,0.1),\n",
    "    shadow=True\n",
    ");"
   ]
  },
  {
   "cell_type": "code",
   "execution_count": 138,
   "metadata": {},
   "outputs": [
    {
     "data": {
      "text/plain": [
       "Music                     282\n",
       "Doing Extra Activities    209\n",
       "Internet Surfing          183\n",
       "Online gaming             177\n",
       "Sleeping                  105\n",
       "Social Media              100\n",
       "Talking                    62\n",
       "Cooking                    41\n",
       "Exercise/Gym               13\n",
       "Many Things                10\n",
       "Name: stress_busters, dtype: int64"
      ]
     },
     "execution_count": 138,
     "metadata": {},
     "output_type": "execute_result"
    }
   ],
   "source": [
    "df['stress_busters'].value_counts()"
   ]
  },
  {
   "cell_type": "code",
   "execution_count": 145,
   "metadata": {},
   "outputs": [
    {
     "data": {
      "text/plain": [
       "<matplotlib.axes._subplots.AxesSubplot at 0x133141e5af0>"
      ]
     },
     "execution_count": 145,
     "metadata": {},
     "output_type": "execute_result"
    },
    {
     "data": {
      "image/png": "[encoded data removed]",
      "text/plain": [
       "<Figure size 1440x720 with 1 Axes>"
      ]
     },
     "metadata": {
      "needs_background": "light"
     },
     "output_type": "display_data"
    }
   ],
   "source": [
    "plt.figure(figsize=(20,10))\n",
    "sns.countplot(y = df['stress_busters'],data=df)"
   ]
  },
  {
   "cell_type": "code",
   "execution_count": null,
   "metadata": {},
   "outputs": [],
   "source": []
  },
  {
   "cell_type": "code",
   "execution_count": null,
   "metadata": {},
   "outputs": [],
   "source": []
  }
 ],
 "metadata": {
  "kernelspec": {
   "display_name": "Python 3",
   "language": "python",
   "name": "python3"
  },
  "language_info": {
   "codemirror_mode": {
    "name": "ipython",
    "version": 3
   },
   "file_extension": ".py",
   "mimetype": "text/x-python",
   "name": "python",
   "nbconvert_exporter": "python",
   "pygments_lexer": "ipython3",
   "version": "3.8.3"
  }
 },
 "nbformat": 4,
 "nbformat_minor": 4
}
